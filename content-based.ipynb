{
 "cells": [
  {
   "cell_type": "code",
   "execution_count": 1,
   "metadata": {},
   "outputs": [],
   "source": [
    "import pandas as pd\n",
    "import numpy as np\n",
    "import nltk"
   ]
  },
  {
   "cell_type": "code",
   "execution_count": 2,
   "metadata": {},
   "outputs": [
    {
     "name": "stderr",
     "output_type": "stream",
     "text": [
      "[nltk_data] Downloading package wordnet to\n",
      "[nltk_data]     C:\\Users\\KK\\AppData\\Roaming\\nltk_data...\n",
      "[nltk_data]   Package wordnet is already up-to-date!\n",
      "[nltk_data] Downloading package stopwords to\n",
      "[nltk_data]     C:\\Users\\KK\\AppData\\Roaming\\nltk_data...\n",
      "[nltk_data]   Package stopwords is already up-to-date!\n",
      "[nltk_data] Downloading package punkt to\n",
      "[nltk_data]     C:\\Users\\KK\\AppData\\Roaming\\nltk_data...\n",
      "[nltk_data]   Package punkt is already up-to-date!\n"
     ]
    },
    {
     "data": {
      "text/plain": [
       "True"
      ]
     },
     "execution_count": 2,
     "metadata": {},
     "output_type": "execute_result"
    }
   ],
   "source": [
    "from nltk.stem.wordnet import WordNetLemmatizer\n",
    "from nltk.corpus import stopwords \n",
    "from nltk.tokenize import word_tokenize \n",
    "\n",
    "nltk.download('wordnet')\n",
    "nltk.download('stopwords')\n",
    "nltk.download('punkt')"
   ]
  },
  {
   "cell_type": "code",
   "execution_count": 3,
   "metadata": {},
   "outputs": [],
   "source": [
    "stop_words = set(stopwords.words('english'))"
   ]
  },
  {
   "cell_type": "code",
   "execution_count": 4,
   "metadata": {},
   "outputs": [],
   "source": [
    "need_to_del = ['.', ',', '”', ':', '“', \"—\"]"
   ]
  },
  {
   "cell_type": "code",
   "execution_count": 5,
   "metadata": {},
   "outputs": [],
   "source": [
    "stop_words.update(need_to_del)"
   ]
  },
  {
   "cell_type": "code",
   "execution_count": 6,
   "metadata": {},
   "outputs": [],
   "source": [
    "data = pd.read_csv(\"articles1.csv\")"
   ]
  },
  {
   "cell_type": "code",
   "execution_count": 7,
   "metadata": {},
   "outputs": [],
   "source": [
    "contents = data.content"
   ]
  },
  {
   "cell_type": "code",
   "execution_count": 8,
   "metadata": {},
   "outputs": [],
   "source": [
    "def cosin(a, b):\n",
    "    \"\"\"\n",
    "    Функция считает cos расстояние, по формуле из презентации\n",
    "    \"\"\"\n",
    "    aLength = np.linalg.norm(a)\n",
    "    bLength = np.linalg.norm(b)\n",
    "\n",
    "    return np.dot(a, b) / (aLength * bLength)\n"
   ]
  },
  {
   "cell_type": "code",
   "execution_count": 9,
   "metadata": {},
   "outputs": [],
   "source": [
    "def str_to_vector(text):\n",
    "    \"\"\"\n",
    "    Функция считает веса по кол-ву слов в тексте\n",
    "    \"\"\"\n",
    "    words = word_tokenize(text)\n",
    "    filtered_words = []\n",
    "    \n",
    "    for w in words: \n",
    "        if w not in stop_words: \n",
    "            filtered_words.append(w.lower()) \n",
    "            \n",
    "    dict_with_words = dict()\n",
    "    \n",
    "    for word in filtered_words:\n",
    "        if word in dict_with_words:\n",
    "            dict_with_words[word] += 1\n",
    "        else:\n",
    "            dict_with_words[word] = 1\n",
    "            \n",
    "    count_all_words = len(filtered_words)\n",
    "    \n",
    "    for word in dict_with_words:\n",
    "        dict_with_words[word] = dict_with_words[word] / count_all_words\n",
    "    \n",
    "    return dict_with_words"
   ]
  },
  {
   "cell_type": "code",
   "execution_count": 10,
   "metadata": {},
   "outputs": [],
   "source": [
    "cos_ranges = []"
   ]
  },
  {
   "cell_type": "code",
   "execution_count": 11,
   "metadata": {},
   "outputs": [],
   "source": [
    "for i in range(100):\n",
    "    our_article = str_to_vector(contents[0])\n",
    "\n",
    "    next_article = str_to_vector(contents[i])\n",
    "\n",
    "    for w in our_article:\n",
    "        if w not in next_article:\n",
    "            next_article[w] = 0\n",
    "            \n",
    "    for w in next_article:\n",
    "        if w not in our_article:\n",
    "            our_article[w] = 0\n",
    "\n",
    "    vector_our_article = []\n",
    "    vector_next_article = []\n",
    "    \n",
    "    for word in our_article:\n",
    "        vector_our_article.append(our_article[word])\n",
    "        vector_next_article.append(next_article[word])\n",
    "    \n",
    "    cos_ranges.append(cosin(vector_our_article, vector_next_article))"
   ]
  },
  {
   "cell_type": "code",
   "execution_count": 12,
   "metadata": {
    "scrolled": true
   },
   "outputs": [
    {
     "data": {
      "text/plain": [
       "41"
      ]
     },
     "execution_count": 12,
     "metadata": {},
     "output_type": "execute_result"
    }
   ],
   "source": [
    "cos_ranges.index(0.5333068999025409)"
   ]
  },
  {
   "cell_type": "code",
   "execution_count": 13,
   "metadata": {
    "scrolled": true
   },
   "outputs": [
    {
     "data": {
      "text/plain": [
       "'WASHINGTON  —   Congressional Republicans have a new fear when it comes to their    health care lawsuit against the Obama administration: They might win. The incoming Trump administration could choose to no longer defend the executive branch against the suit, which challenges the administration’s authority to spend billions of dollars on health insurance subsidies for   and   Americans, handing House Republicans a big victory on    issues. But a sudden loss of the disputed subsidies could conceivably cause the health care program to implode, leaving millions of people without access to health insurance before Republicans have prepared a replacement. That could lead to chaos in the insurance market and spur a political backlash just as Republicans gain full control of the government. To stave off that outcome, Republicans could find themselves in the awkward position of appropriating huge sums to temporarily prop up the Obama health care law, angering conservative voters who have been demanding an end to the law for years. In another twist, Donald J. Trump’s administration, worried about preserving executive branch prerogatives, could choose to fight its Republican allies in the House on some central questions in the dispute. Eager to avoid an ugly political pileup, Republicans on Capitol Hill and the Trump transition team are gaming out how to handle the lawsuit, which, after the election, has been put in limbo until at least late February by the United States Court of Appeals for the District of Columbia Circuit. They are not yet ready to divulge their strategy. “Given that this pending litigation involves the Obama administration and Congress, it would be inappropriate to comment,” said Phillip J. Blando, a spokesman for the Trump transition effort. “Upon taking office, the Trump administration will evaluate this case and all related aspects of the Affordable Care Act. ” In a potentially   decision in 2015, Judge Rosemary M. Collyer ruled that House Republicans had the standing to sue the executive branch over a spending dispute and that the Obama administration had been distributing the health insurance subsidies, in violation of the Constitution, without approval from Congress. The Justice Department, confident that Judge Collyer’s decision would be reversed, quickly appealed, and the subsidies have remained in place during the appeal. In successfully seeking a temporary halt in the proceedings after Mr. Trump won, House Republicans last month told the court that they “and the  ’s transition team currently are discussing potential options for resolution of this matter, to take effect after the  ’s inauguration on Jan. 20, 2017. ” The suspension of the case, House lawyers said, will “provide the   and his future administration time to consider whether to continue prosecuting or to otherwise resolve this appeal. ” Republican leadership officials in the House acknowledge the possibility of “cascading effects” if the   payments, which have totaled an estimated $13 billion, are suddenly stopped. Insurers that receive the subsidies in exchange for paying    costs such as deductibles and   for eligible consumers could race to drop coverage since they would be losing money. Over all, the loss of the subsidies could destabilize the entire program and cause a lack of confidence that leads other insurers to seek a quick exit as well. Anticipating that the Trump administration might not be inclined to mount a vigorous fight against the House Republicans given the  ’s dim view of the health care law, a team of lawyers this month sought to intervene in the case on behalf of two participants in the health care program. In their request, the lawyers predicted that a deal between House Republicans and the new administration to dismiss or settle the case “will produce devastating consequences for the individuals who receive these reductions, as well as for the nation’s health insurance and health care systems generally. ” No matter what happens, House Republicans say, they want to prevail on two overarching concepts: the congressional power of the purse, and the right of Congress to sue the executive branch if it violates the Constitution regarding that spending power. House Republicans contend that Congress never appropriated the money for the subsidies, as required by the Constitution. In the suit, which was initially championed by John A. Boehner, the House speaker at the time, and later in House committee reports, Republicans asserted that the administration, desperate for the funding, had required the Treasury Department to provide it despite widespread internal skepticism that the spending was proper. The White House said that the spending was a permanent part of the law passed in 2010, and that no annual appropriation was required  —   even though the administration initially sought one. Just as important to House Republicans, Judge Collyer found that Congress had the standing to sue the White House on this issue  —   a ruling that many legal experts said was flawed  —   and they want that precedent to be set to restore congressional leverage over the executive branch. But on spending power and standing, the Trump administration may come under pressure from advocates of presidential authority to fight the House no matter their shared views on health care, since those precedents could have broad repercussions. It is a complicated set of dynamics illustrating how a quick legal victory for the House in the Trump era might come with costs that Republicans never anticipated when they took on the Obama White House.'"
      ]
     },
     "execution_count": 13,
     "metadata": {},
     "output_type": "execute_result"
    }
   ],
   "source": [
    "contents[0]"
   ]
  },
  {
   "cell_type": "code",
   "execution_count": 14,
   "metadata": {
    "scrolled": true
   },
   "outputs": [
    {
     "data": {
      "text/plain": [
       "'WASHINGTON  —   The   Congress opened the turbulent Trump era in Washington on Tuesday, as the new Senate moved instantly to begin the repeal of President Obama’s signature health care law while the House descended into chaos in an   attempt to gut an independent congressional ethics office. On a day usually reserved for pomp, constitutionally mandated procedure and small children parading around in fancy dresses, Congress instead pitched itself into partisan battles. Speaker Paul D. Ryan easily won   but not before the embarrassment of having his members defy him by voting to eliminate the ethics office, only to then abandon that effort after a flood of criticism from constituents and Twitter messages from   Donald J. Trump that criticized House Republican priorities. It was a rocky start to a period in which Republicans had promised an end to Washington gridlock if they controlled both Congress and the White House. There was intraparty conflict and a sense that Mr. Trump, who ran against the Republican establishment, would continue to be openly critical of his own party at times. As Democrats in both chambers seethed, Senator Mitch McConnell of Kentucky, the majority leader, unveiled the legislative language that could decimate the Affordable Care Act before the crocuses start to bloom in the spring, even if any replacement of the law could take years. Budget language released on Tuesday gives House and Senate committees only until Jan. 27 to produce legislation that would eliminate major parts of the health care law. Under arcane budget procedures, that legislation would be protected from a Democratic filibuster and could pass the Senate with a simple majority. And debate will begin on Wednesday, before senators have even moved into their new offices. The dueling over the health law’s fate will pull in both the departing and incoming White House administrations as well. On Wednesday, Mr. Obama will visit with congressional Democrats to plot how to resist the planned repeal, and Mike Pence, the vice   will meet with Republicans to gird them for the fight ahead. While the Senate action showed Republicans on course to keep campaign promises, the House got off to a messy start, brought on by Republicans who had moved largely in secret on Monday to gut a congressional ethics office against Mr. Ryan’s wishes. That provoked an outcry from both Democrats and voters who flooded House offices with angry calls. “Every   organization is calling my office,” said Representative Pete Sessions, Republican of Texas. “And we’ve told them: ‘Thank you very much. We appreciate your feedback. ’” After a hastily called meeting on Tuesday morning among Republicans, the matter was dropped before it could go to the full House floor for a vote. As the Senate moved to larger legislative matters, the House kerfuffle seemed to cast a shadow over Mr. Ryan, but he tried to brush it off. “There’s no sense of foreboding in the House today,” Mr. Ryan said after his   “only the sense of potential. ” The fight over the House rules was already acrimonious thanks to a piece of the package that would impose $2, 500 in fines for filming events on the House floor, a response to Democrats who streamed their overnight   over guns last June using cellphones and video cameras. In the Senate, Vice President Joseph R. Biden Jr. swore in seven new members and all the incumbents who won their races last year, their colleagues looking on cheerfully, as a cold rain pelted the newly refurbished Capitol dome. Members of the House and Senate brought along their families  —   elderly parents with canes, small children tugging at uncomfortable lacy hems  —   as well as former senators and other special guests. Former Vice President Dick Cheney accompanied his daughter Liz to her   as a member of the House elected from Wyoming. Senator Chuck Schumer of New York officially became the Democratic leader and quickly warned Republicans that the minority would be vocal, if not operatic, in resisting much of their agenda and many of Mr. Trump’s nominees. “It is our job to do what’s best for the American people, the middle class and those struggling to get there,” he said. “If the   proposes legislation on issues like infrastructure, trade and closing the carried interest loophole, for instance, we will work in good faith to perfect and, potentially, enact it. When he doesn’t, we will resist. ” He added, “If   Trump lets the   members of Congress and his cabinet run the show, if he adopts their timeworn policies  —   which benefit the elites, the special interests and corporate America, not the working man and woman  —   his presidency will not succeed. ” On Tuesday, the House also adopted rules clearing the way for legislation to roll back the health care law. The budget blueprint introduced on Tuesday in the Senate is not sent to the president and does not become law, but still clears the way for subsequent legislation that Republicans say will repeal major provisions of the Affordable Care Act. Republicans bypassed the Budget Committee so they could immediately bring the measure to the floor. Such resolutions are normally developed after weeks of work in the Budget Committee. Under the plan, four congressional committees  —   two in the House and two in the Senate  —   have until Jan. 27 to develop legislation that will be the vehicle for repealing the health care law. The document does not specify which provisions of the law may be eliminated and which ones may be preserved. Nor does it specify or even suggest how Republicans would replace the Affordable Care Act, which the Obama administration says has provided coverage to some 20 million people who were previously uninsured. Republicans have said they may delay the effective date of a repeal bill, to avoid disrupting coverage for people who have it and to provide time for Republicans to develop alternatives to the 2010 health law. The budget blueprint allows Republicans to use savings from repealing major provisions of that law to help offset the cost of future, unspecified measures to help people obtain coverage. “Americans face skyrocketing premiums and soaring deductibles,” said Senator Mike Enzi, Republican of Wyoming and chairman of the Senate Budget Committee. “Insurers are withdrawing from markets across the country, leaving many families with fewer choices and less access to care than they had before  —   the opposite of what the law promised. ” The American Medical Association urged Congress on Tuesday to explain how it would replace the Affordable Care Act. “Before any action is taken through reconciliation or other means that would potentially alter coverage, policy makers should lay out for the American people, in reasonable detail, what will replace current policies,” the chief executive of the association, Dr. James L. Madara, said in a letter to congressional leaders. Representative Nancy Pelosi of California, who engineered the House passage of the health law in 2010, promised this week that Democrats would be just as aggressive in fighting its repeal. Republicans have said they may delay legislation to replace the health law for several years. Ms. Pelosi said that such a delay would be “an act of cowardice on the part of Republicans,” and that “they don’t even have the votes to do it” because they have not agreed on a replacement plan. Democrats also vowed to give Mr. Trump’s cabinet nominees rigorous scrutiny. Senator Dianne Feinstein of California, the   Democrat on the Judiciary Committee, has written to Senator Charles E. Grassley of Iowa, the committee chairman, asking to postpone the first scheduled confirmation hearing, set for next week for Senator Jeff Sessions of Alabama, whom Mr. Trump has chosen as attorney general.'"
      ]
     },
     "execution_count": 14,
     "metadata": {},
     "output_type": "execute_result"
    }
   ],
   "source": [
    "contents[41]"
   ]
  },
  {
   "cell_type": "code",
   "execution_count": null,
   "metadata": {},
   "outputs": [],
   "source": []
  },
  {
   "cell_type": "code",
   "execution_count": null,
   "metadata": {},
   "outputs": [],
   "source": []
  }
 ],
 "metadata": {
  "kernelspec": {
   "display_name": "Python 3",
   "language": "python",
   "name": "python3"
  },
  "language_info": {
   "codemirror_mode": {
    "name": "ipython",
    "version": 3
   },
   "file_extension": ".py",
   "mimetype": "text/x-python",
   "name": "python",
   "nbconvert_exporter": "python",
   "pygments_lexer": "ipython3",
   "version": "3.8.3"
  }
 },
 "nbformat": 4,
 "nbformat_minor": 4
}
